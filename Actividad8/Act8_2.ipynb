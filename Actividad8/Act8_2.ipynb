{
 "cells": [
  {
   "cell_type": "code",
   "execution_count": 1,
   "metadata": {},
   "outputs": [],
   "source": [
    "#Vamos a crear un vectorfield con las ecuaciones de Van der Pol, basándonos en un código para las ecuaciones de Lotka-Volterra\n",
    "from numpy import *\n",
    "from scipy.integrate import odeint \n",
    "\n",
    "def dX_dt(w, t, p):\n",
    "    \n",
    "    x, y = w\n",
    "    \n",
    "    \n",
    "    \"\"\" Return the ecuation for the Van der Pol oscillator.  \"\"\"\n",
    "    f = [ y,  p * (1 - x ** 2) * y - x]\n",
    "    \n",
    "    return f"
   ]
  },
  {
   "cell_type": "code",
   "execution_count": 2,
   "metadata": {},
   "outputs": [],
   "source": [
    "#Ahora vamos a crear la gráfica de fase del Oscilador de Van der Pol cambiando los valores de mu desde 0.1 hasta 0.5\n",
    "#Para eso, vamos crear 8 documentos nuevos para poder modificar el valor de mu\n",
    "#Además, al momento de graficar debemos de volver a saltarnos 100 renglones para mostrar la fase de forma estable.\n",
    "\n",
    "#parametro 1\n",
    "mu = 0.1\n",
    "\n",
    "#variables\n",
    "x = 2\n",
    "y = -3\n",
    "\n",
    "# Parametros de la ED\n",
    "abserr = 1.0e-8\n",
    "relerr = 1.0e-6\n",
    "stoptime = 170.0\n",
    "numpoints = 5000\n",
    "\n",
    "t = [stoptime * float(i) / (numpoints - 1) for i in range(numpoints)]\n",
    "\n",
    "#Ponemos las variables del vector:\n",
    "w0 = [x, y]\n",
    "\n",
    "# Llamamos a la funcion para resolver la ED\n",
    "wsol = odeint(dX_dt, w0, t, args=(mu,),\n",
    "              atol=abserr, rtol=relerr)\n",
    "\n",
    "with open('Act8.9.dat', 'w') as f:\n",
    "    # Imprimimos en el documento la solución\n",
    "    for t1, w1 in zip(t, wsol):\n",
    "        print (t1, w1[0], w1[1], file=f)"
   ]
  },
  {
   "cell_type": "code",
   "execution_count": 3,
   "metadata": {},
   "outputs": [],
   "source": [
    "mu = 0.5\n",
    "\n",
    "x = 2\n",
    "y = -3\n",
    "\n",
    "w0 = [x, y]\n",
    "\n",
    "wsol = odeint(dX_dt, w0, t, args=(mu,),\n",
    "              atol=abserr, rtol=relerr)\n",
    "\n",
    "with open('Act8.10.dat', 'w') as f:\n",
    "    for t1, w1 in zip(t, wsol):\n",
    "        print (t1, w1[0], w1[1], file=f)"
   ]
  },
  {
   "cell_type": "code",
   "execution_count": 4,
   "metadata": {},
   "outputs": [],
   "source": [
    "mu = 1.0\n",
    "\n",
    "x = 2\n",
    "y = -3\n",
    "\n",
    "w0 = [x, y]\n",
    "\n",
    "\n",
    "wsol = odeint(dX_dt, w0, t, args=(mu,),\n",
    "              atol=abserr, rtol=relerr)\n",
    "\n",
    "with open('Act8.11.dat', 'w') as f:\n",
    "    for t1, w1 in zip(t, wsol):\n",
    "        print (t1, w1[0], w1[1], file=f)"
   ]
  },
  {
   "cell_type": "code",
   "execution_count": 5,
   "metadata": {},
   "outputs": [],
   "source": [
    "mu = 1.5\n",
    "\n",
    "x = 2\n",
    "y = -3\n",
    "\n",
    "w0 = [x, y]\n",
    "\n",
    "wsol = odeint(dX_dt, w0, t, args=(mu,),\n",
    "              atol=abserr, rtol=relerr)\n",
    "\n",
    "with open('Act8.12.dat', 'w') as f:\n",
    "    for t1, w1 in zip(t, wsol):\n",
    "        print (t1, w1[0], w1[1], file=f)"
   ]
  },
  {
   "cell_type": "code",
   "execution_count": 6,
   "metadata": {},
   "outputs": [],
   "source": [
    "mu = 2.0\n",
    "\n",
    "x = 2\n",
    "y = -3\n",
    "\n",
    "w0 = [x, y]\n",
    "\n",
    "wsol = odeint(dX_dt, w0, t, args=(mu,),\n",
    "              atol=abserr, rtol=relerr)\n",
    "\n",
    "with open('Act8.13.dat', 'w') as f:\n",
    "    for t1, w1 in zip(t, wsol):\n",
    "        print (t1, w1[0], w1[1], file=f)"
   ]
  },
  {
   "cell_type": "code",
   "execution_count": 7,
   "metadata": {},
   "outputs": [],
   "source": [
    "mu = 2.5\n",
    "\n",
    "x = 2\n",
    "y = -3\n",
    "\n",
    "w0 = [x, y]\n",
    "\n",
    "wsol = odeint(dX_dt, w0, t, args=(mu,),\n",
    "              atol=abserr, rtol=relerr)\n",
    "\n",
    "with open('Act8.14.dat', 'w') as f:\n",
    "    for t1, w1 in zip(t, wsol):\n",
    "        print (t1, w1[0], w1[1], file=f)"
   ]
  },
  {
   "cell_type": "code",
   "execution_count": 8,
   "metadata": {},
   "outputs": [],
   "source": [
    "mu = 2.5\n",
    "\n",
    "x = 2\n",
    "y = -3\n",
    "\n",
    "w0 = [x, y]\n",
    "\n",
    "wsol = odeint(dX_dt, w0, t, args=(mu,),\n",
    "              atol=abserr, rtol=relerr)\n",
    "\n",
    "with open('Act8.14.dat', 'w') as f:\n",
    "    for t1, w1 in zip(t, wsol):\n",
    "        print (t1, w1[0], w1[1], file=f)"
   ]
  },
  {
   "cell_type": "code",
   "execution_count": null,
   "metadata": {},
   "outputs": [],
   "source": [
    "mu = 3.0\n",
    "\n",
    "x = 2\n",
    "y = -3\n",
    "\n",
    "w0 = [x, y]\n",
    "\n",
    "wsol = odeint(dX_dt, w0, t, args=(mu,),\n",
    "              atol=abserr, rtol=relerr)\n",
    "\n",
    "with open('Act8.15.dat', 'w') as f:\n",
    "    for t1, w1 in zip(t, wsol):\n",
    "        print (t1, w1[0], w1[1], file=f)"
   ]
  }
 ],
 "metadata": {
  "kernelspec": {
   "display_name": "Python 3",
   "language": "python",
   "name": "python3"
  },
  "language_info": {
   "codemirror_mode": {
    "name": "ipython",
    "version": 3
   },
   "file_extension": ".py",
   "mimetype": "text/x-python",
   "name": "python",
   "nbconvert_exporter": "python",
   "pygments_lexer": "ipython3",
   "version": "3.6.5"
  }
 },
 "nbformat": 4,
 "nbformat_minor": 2
}
