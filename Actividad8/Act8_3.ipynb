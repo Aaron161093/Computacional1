{
 "cells": [
  {
   "cell_type": "code",
   "execution_count": null,
   "metadata": {},
   "outputs": [],
   "source": [
    "from numpy import  **\n",
    " importimport  pylabpylab  asas  pp\n",
    " # Definition of parameters# Defin \n",
    "mu= 5.0\n",
    "def dX_dt(X, t=0):\n",
    "    xp=X[1]\n",
    "    yp=mu*(1-X[0]**2)*X[1]-X[0]\n",
    "    return array([xp, yp ])"
   ]
  }
 ],
 "metadata": {
  "kernelspec": {
   "display_name": "Python 3",
   "language": "python",
   "name": "python3"
  },
  "language_info": {
   "codemirror_mode": {
    "name": "ipython",
    "version": 3
   },
   "file_extension": ".py",
   "mimetype": "text/x-python",
   "name": "python",
   "nbconvert_exporter": "python",
   "pygments_lexer": "ipython3",
   "version": "3.6.5"
  }
 },
 "nbformat": 4,
 "nbformat_minor": 2
}
