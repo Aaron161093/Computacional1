{
 "cells": [
  {
   "cell_type": "code",
   "execution_count": 1,
   "metadata": {
    "collapsed": true
   },
   "outputs": [],
   "source": [
    "import pandas as pd\n",
    "import numpy as np\n",
    "import matplotlib.pyplot as plt"
   ]
  },
  {
   "cell_type": "code",
   "execution_count": 6,
   "metadata": {},
   "outputs": [
    {
     "ename": "SyntaxError",
     "evalue": "invalid syntax (<ipython-input-6-bee4f8996758>, line 4)",
     "output_type": "error",
     "traceback": [
      "\u001b[0;36m  File \u001b[0;32m\"<ipython-input-6-bee4f8996758>\"\u001b[0;36m, line \u001b[0;32m4\u001b[0m\n\u001b[0;31m    df0.temp = pd.to_numeric(df0.temp, errors='coerce')\u001b[0m\n\u001b[0m      ^\u001b[0m\n\u001b[0;31mSyntaxError\u001b[0m\u001b[0;31m:\u001b[0m invalid syntax\n"
     ]
    }
   ],
   "source": [
    "df0 = pd.read_csv(\"sargento-salinidad-270218.csv\",skiprows=2, header=None, names=['Date','cond','temp','specific','salinity'])\n",
    "#df.Date = pd.to_numeric(df.Date, errors='coerce')\n",
    "df0.cond = pd.to_numeric(df0.cond, errors='coerce'\n",
    "df0.temp = pd.to_numeric(df0.temp, errors='coerce')\n",
    "df0.specific = pd.to_numeric(df0.specific, errors='coerce')\n",
    "df0.salinity = pd.to_numeric(df0.salinity, errors='coerce')\n",
    "df0.head()"
   ]
  },
  {
   "cell_type": "code",
   "execution_count": null,
   "metadata": {
    "collapsed": true
   },
   "outputs": [],
   "source": []
  }
 ],
 "metadata": {
  "kernelspec": {
   "display_name": "Python 3",
   "language": "python",
   "name": "python3"
  },
  "language_info": {
   "codemirror_mode": {
    "name": "ipython",
    "version": 3
   },
   "file_extension": ".py",
   "mimetype": "text/x-python",
   "name": "python",
   "nbconvert_exporter": "python",
   "pygments_lexer": "ipython3",
   "version": "3.6.3"
  }
 },
 "nbformat": 4,
 "nbformat_minor": 2
}
