{
 "cells": [
  {
   "cell_type": "code",
   "execution_count": 1,
   "metadata": {},
   "outputs": [],
   "source": [
    "%matplotlib inline\n",
    "import numpy as np, matplotlib.pyplot as plt, matplotlib.font_manager as fm, os\n",
    "from scipy.integrate import odeint\n",
    "from mpl_toolkits.mplot3d.axes3d import Axes3D\n"
   ]
  },
  {
   "cell_type": "code",
   "execution_count": 2,
   "metadata": {},
   "outputs": [],
   "source": [
    "%matplotlib inline\n",
    "import numpy as np, matplotlib.pyplot as plt, matplotlib.font_manager as fm, os\n",
    "from scipy.integrate import odeint\n",
    "from mpl_toolkits.mplot3d.axes3d import Axes3D\n"
   ]
  },
  {
   "cell_type": "code",
   "execution_count": 3,
   "metadata": {},
   "outputs": [],
   "source": [
    "# define the initial system state (aka x, y, z positions in space)\n",
    "initial_state = [0.1, 0, 0]\n",
    "\n",
    "# define the system parameters sigma, rho, and beta\n",
    "sigma = 10.\n",
    "rho   = 8./3.\n",
    "beta  = 99\n",
    "\n",
    "# define the time points to solve for, evenly spaced between the start and end times\n",
    "start_time = 0\n",
    "end_time = 100\n",
    "time_points = np.linspace(start_time, end_time, end_time*100)\n"
   ]
  },
  {
   "cell_type": "code",
   "execution_count": 4,
   "metadata": {},
   "outputs": [],
   "source": [
    "# define the lorenz system\n",
    "# x, y, and z make up the system state, t is time, and sigma, rho, beta are the system parameters\n",
    "def lorenz_system(current_state, t):\n",
    "    \n",
    "    # positions of x, y, z in space at the current time point\n",
    "    x, y, z = current_state\n",
    "    \n",
    "    # define the 3 ordinary differential equations known as the lorenz equations\n",
    "    dx_dt = sigma * (y - x)\n",
    "    dy_dt = x * (rho - z) - y\n",
    "    dz_dt = x * y - beta * z\n",
    "    \n",
    "    # return a list of the equations that describe the system\n",
    "    return [dx_dt, dy_dt, dz_dt]"
   ]
  },
  {
   "cell_type": "code",
   "execution_count": 5,
   "metadata": {},
   "outputs": [],
   "source": [
    "# use odeint() to solve a system of ordinary differential equations\n",
    "# the arguments are: \n",
    "# 1, a function - computes the derivatives\n",
    "# 2, a vector of initial system conditions (aka x, y, z positions in space)\n",
    "# 3, a sequence of time points to solve for\n",
    "# returns an array of x, y, and z value arrays for each time point, with the initial values in the first row\n",
    "xyz = odeint(lorenz_system, initial_state, time_points)\n",
    "\n",
    "# extract the individual arrays of x, y, and z values from the array of arrays\n",
    "x = xyz[:, 0]\n",
    "y = xyz[:, 1]\n",
    "z = xyz[:, 2]"
   ]
  },
  {
   "cell_type": "code",
   "execution_count": 6,
   "metadata": {},
   "outputs": [
    {
     "data": {
      "image/png": "[encoded data removed]",
      "text/plain": [
       "<matplotlib.figure.Figure at 0x7fe1ffd22898>"
      ]
     },
     "metadata": {},
     "output_type": "display_data"
    }
   ],
   "source": [
    "# Plot the solution that was generated\n",
    "\n",
    "from numpy import loadtxt\n",
    "from pylab import figure, plot, xlabel, grid, hold, legend, title, savefig\n",
    "from matplotlib.font_manager import FontProperties\n",
    "%matplotlib inline\n",
    "\n",
    "\n",
    "figure(1, figsize=(6, 4.5))\n",
    "\n",
    "\n",
    "grid(True)\n",
    "#hold(True)\n",
    "lw = 1\n",
    "plt.xlabel('t')\n",
    "plot(x, 'k', linewidth=lw)\n",
    "plot(y, 'y', linewidth=lw)\n",
    "plot(z, 'r', linewidth=lw)\n",
    "legend((r'$x$', r'$y$', r'$z$'), prop=FontProperties(size=16))\n",
    "title('Evolución Temporal')\n",
    "savefig('bid.png', dpi=100)"
   ]
  },
  {
   "cell_type": "code",
   "execution_count": 7,
   "metadata": {},
   "outputs": [
    {
     "data": {
      "image/png": "[encoded data removed]",
      "text/plain": [
       "<matplotlib.figure.Figure at 0x7fe1f7602668>"
      ]
     },
     "metadata": {},
     "output_type": "display_data"
    }
   ],
   "source": [
    "# Plot the solution that was generated\n",
    "\n",
    "from numpy import loadtxt\n",
    "from pylab import figure, plot, xlabel, grid, hold, legend, title, savefig\n",
    "from matplotlib.font_manager import FontProperties\n",
    "%matplotlib inline\n",
    "\n",
    "\n",
    "figure(1, figsize=(6, 4.5))\n",
    "\n",
    "\n",
    "grid(True)\n",
    "#hold(True)\n",
    "lw = 1\n",
    "plt.xlabel('t')\n",
    "plot(x, 'k', linewidth=lw)\n",
    "plot(y, 'y', linewidth=lw)\n",
    "plot(z, 'r', linewidth=lw)\n",
    "plt.xlim((4000,4100))\n",
    "plt.ylim((-25,50))\n",
    "legend((r'$x$', r'$y$', r'$z$'), prop=FontProperties(size=16))\n",
    "title('Evolución Temporal')\n",
    "savefig('bid.png', dpi=100)"
   ]
  },
  {
   "cell_type": "code",
   "execution_count": null,
   "metadata": {},
   "outputs": [],
   "source": []
  },
  {
   "cell_type": "code",
   "execution_count": null,
   "metadata": {},
   "outputs": [],
   "source": []
  }
 ],
 "metadata": {
  "kernelspec": {
   "display_name": "Python 3",
   "language": "python",
   "name": "python3"
  },
  "language_info": {
   "codemirror_mode": {
    "name": "ipython",
    "version": 3
   },
   "file_extension": ".py",
   "mimetype": "text/x-python",
   "name": "python",
   "nbconvert_exporter": "python",
   "pygments_lexer": "ipython3",
   "version": "3.6.3"
  }
 },
 "nbformat": 4,
 "nbformat_minor": 2
}
